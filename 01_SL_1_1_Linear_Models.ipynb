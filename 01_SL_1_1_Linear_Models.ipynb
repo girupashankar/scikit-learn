{
  "nbformat": 4,
  "nbformat_minor": 0,
  "metadata": {
    "colab": {
      "provenance": [],
      "authorship_tag": "ABX9TyMj5ADuXPqUypAY6h79b5AT",
      "include_colab_link": true
    },
    "kernelspec": {
      "name": "python3",
      "display_name": "Python 3"
    },
    "language_info": {
      "name": "python"
    }
  },
  "cells": [
    {
      "cell_type": "markdown",
      "metadata": {
        "id": "view-in-github",
        "colab_type": "text"
      },
      "source": [
        "<a href=\"https://colab.research.google.com/github/girupashankar/scikit-learn/blob/main/01_SL_1_1_Linear_Models.ipynb\" target=\"_parent\"><img src=\"https://colab.research.google.com/assets/colab-badge.svg\" alt=\"Open In Colab\"/></a>"
      ]
    },
    {
      "cell_type": "markdown",
      "source": [
        "# scikit learn\n",
        "![image.png](data:image/png;base64,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)"
      ],
      "metadata": {
        "id": "NlHpdNYfWY9E"
      }
    },
    {
      "cell_type": "markdown",
      "source": [
        "## 1.1. Linear Models\n",
        "* The following are a set of methods intended for regression in which the target value is expected to be a linear combination of the features. In mathematical notation, if Y is the predicted value.\n",
        "* Across the module, we designate the vector\n",
        " w =(w1,...,wp) as coef_ and  w0 as intercept_."
      ],
      "metadata": {
        "id": "eqrCqgMJWWSk"
      }
    },
    {
      "cell_type": "markdown",
      "source": [
        "### 1.1.1. Ordinary Least Squares"
      ],
      "metadata": {
        "id": "xFPXzht3XQuL"
      }
    },
    {
      "cell_type": "markdown",
      "source": [
        "* LinearRegression fits a linear model with coefficients w = (w0,...,wp)\n",
        " to minimize the residual sum of squares between the observed targets in the dataset, and the targets predicted by the linear approximation.\n",
        "\n",
        "* LinearRegression will take in its fit method arrays X, y and will store the coefficients w of the linear model in its coef_ member:"
      ],
      "metadata": {
        "id": "HSM6S1kaXuLH"
      }
    },
    {
      "cell_type": "code",
      "execution_count": null,
      "metadata": {
        "colab": {
          "base_uri": "https://localhost:8080/",
          "height": 75
        },
        "id": "_5dnVNJXWS46",
        "outputId": "1a95e8ad-c248-4725-da05-e9bf8eb0c380"
      },
      "outputs": [
        {
          "output_type": "execute_result",
          "data": {
            "text/plain": [
              "LinearRegression()"
            ],
            "text/html": [
              "<style>#sk-container-id-1 {color: black;background-color: white;}#sk-container-id-1 pre{padding: 0;}#sk-container-id-1 div.sk-toggleable {background-color: white;}#sk-container-id-1 label.sk-toggleable__label {cursor: pointer;display: block;width: 100%;margin-bottom: 0;padding: 0.3em;box-sizing: border-box;text-align: center;}#sk-container-id-1 label.sk-toggleable__label-arrow:before {content: \"▸\";float: left;margin-right: 0.25em;color: #696969;}#sk-container-id-1 label.sk-toggleable__label-arrow:hover:before {color: black;}#sk-container-id-1 div.sk-estimator:hover label.sk-toggleable__label-arrow:before {color: black;}#sk-container-id-1 div.sk-toggleable__content {max-height: 0;max-width: 0;overflow: hidden;text-align: left;background-color: #f0f8ff;}#sk-container-id-1 div.sk-toggleable__content pre {margin: 0.2em;color: black;border-radius: 0.25em;background-color: #f0f8ff;}#sk-container-id-1 input.sk-toggleable__control:checked~div.sk-toggleable__content {max-height: 200px;max-width: 100%;overflow: auto;}#sk-container-id-1 input.sk-toggleable__control:checked~label.sk-toggleable__label-arrow:before {content: \"▾\";}#sk-container-id-1 div.sk-estimator input.sk-toggleable__control:checked~label.sk-toggleable__label {background-color: #d4ebff;}#sk-container-id-1 div.sk-label input.sk-toggleable__control:checked~label.sk-toggleable__label {background-color: #d4ebff;}#sk-container-id-1 input.sk-hidden--visually {border: 0;clip: rect(1px 1px 1px 1px);clip: rect(1px, 1px, 1px, 1px);height: 1px;margin: -1px;overflow: hidden;padding: 0;position: absolute;width: 1px;}#sk-container-id-1 div.sk-estimator {font-family: monospace;background-color: #f0f8ff;border: 1px dotted black;border-radius: 0.25em;box-sizing: border-box;margin-bottom: 0.5em;}#sk-container-id-1 div.sk-estimator:hover {background-color: #d4ebff;}#sk-container-id-1 div.sk-parallel-item::after {content: \"\";width: 100%;border-bottom: 1px solid gray;flex-grow: 1;}#sk-container-id-1 div.sk-label:hover label.sk-toggleable__label {background-color: #d4ebff;}#sk-container-id-1 div.sk-serial::before {content: \"\";position: absolute;border-left: 1px solid gray;box-sizing: border-box;top: 0;bottom: 0;left: 50%;z-index: 0;}#sk-container-id-1 div.sk-serial {display: flex;flex-direction: column;align-items: center;background-color: white;padding-right: 0.2em;padding-left: 0.2em;position: relative;}#sk-container-id-1 div.sk-item {position: relative;z-index: 1;}#sk-container-id-1 div.sk-parallel {display: flex;align-items: stretch;justify-content: center;background-color: white;position: relative;}#sk-container-id-1 div.sk-item::before, #sk-container-id-1 div.sk-parallel-item::before {content: \"\";position: absolute;border-left: 1px solid gray;box-sizing: border-box;top: 0;bottom: 0;left: 50%;z-index: -1;}#sk-container-id-1 div.sk-parallel-item {display: flex;flex-direction: column;z-index: 1;position: relative;background-color: white;}#sk-container-id-1 div.sk-parallel-item:first-child::after {align-self: flex-end;width: 50%;}#sk-container-id-1 div.sk-parallel-item:last-child::after {align-self: flex-start;width: 50%;}#sk-container-id-1 div.sk-parallel-item:only-child::after {width: 0;}#sk-container-id-1 div.sk-dashed-wrapped {border: 1px dashed gray;margin: 0 0.4em 0.5em 0.4em;box-sizing: border-box;padding-bottom: 0.4em;background-color: white;}#sk-container-id-1 div.sk-label label {font-family: monospace;font-weight: bold;display: inline-block;line-height: 1.2em;}#sk-container-id-1 div.sk-label-container {text-align: center;}#sk-container-id-1 div.sk-container {/* jupyter's `normalize.less` sets `[hidden] { display: none; }` but bootstrap.min.css set `[hidden] { display: none !important; }` so we also need the `!important` here to be able to override the default hidden behavior on the sphinx rendered scikit-learn.org. See: https://github.com/scikit-learn/scikit-learn/issues/21755 */display: inline-block !important;position: relative;}#sk-container-id-1 div.sk-text-repr-fallback {display: none;}</style><div id=\"sk-container-id-1\" class=\"sk-top-container\"><div class=\"sk-text-repr-fallback\"><pre>LinearRegression()</pre><b>In a Jupyter environment, please rerun this cell to show the HTML representation or trust the notebook. <br />On GitHub, the HTML representation is unable to render, please try loading this page with nbviewer.org.</b></div><div class=\"sk-container\" hidden><div class=\"sk-item\"><div class=\"sk-estimator sk-toggleable\"><input class=\"sk-toggleable__control sk-hidden--visually\" id=\"sk-estimator-id-1\" type=\"checkbox\" checked><label for=\"sk-estimator-id-1\" class=\"sk-toggleable__label sk-toggleable__label-arrow\">LinearRegression</label><div class=\"sk-toggleable__content\"><pre>LinearRegression()</pre></div></div></div></div></div>"
            ]
          },
          "metadata": {},
          "execution_count": 2
        }
      ],
      "source": [
        "from sklearn import linear_model\n",
        "reg = linear_model.LinearRegression()\n",
        "reg.fit([[0, 0], [1, 1], [2, 2]], [0, 1, 2])"
      ]
    },
    {
      "cell_type": "code",
      "source": [
        "reg.coef_"
      ],
      "metadata": {
        "colab": {
          "base_uri": "https://localhost:8080/"
        },
        "id": "Ib1VlVvIZSP6",
        "outputId": "00d4e1cf-9431-4a1b-e3ad-582fbeeba711"
      },
      "execution_count": null,
      "outputs": [
        {
          "output_type": "execute_result",
          "data": {
            "text/plain": [
              "array([0.5, 0.5])"
            ]
          },
          "metadata": {},
          "execution_count": 3
        }
      ]
    },
    {
      "cell_type": "markdown",
      "source": [
        "* The coefficient estimates for Ordinary Least Squares rely on the independence of the features. When features are correlated and the columns of the design matrix X have an approximately linear dependence, the design matrix becomes close to singular and as a result, the least-squares estimate becomes highly sensitive to random errors in the observed target, producing a large variance. This situation of multicollinearity can arise, for example, when data are collected without an experimental design."
      ],
      "metadata": {
        "id": "2zS4aBF2ka-y"
      }
    },
    {
      "cell_type": "markdown",
      "source": [
        ">Examples - Linear Regression"
      ],
      "metadata": {
        "id": "5Ht739MySmEW"
      }
    },
    {
      "cell_type": "code",
      "source": [
        "# Code source: Jaques Grobler\n",
        "# License: BSD 3 clause\n",
        "\n",
        "import matplotlib.pyplot as plt\n",
        "import numpy as np\n",
        "\n",
        "from sklearn import datasets, linear_model\n",
        "from sklearn.metrics import mean_squared_error, r2_score\n",
        "\n",
        "# Load the diabetes dataset\n",
        "diabetes_X, diabetes_y = datasets.load_diabetes(return_X_y=True)\n",
        "\n",
        "# Use only one feature\n",
        "diabetes_X = diabetes_X[:, np.newaxis, 2]\n",
        "\n",
        "# Split the data into training/testing sets\n",
        "diabetes_X_train = diabetes_X[:-20]\n",
        "diabetes_X_test = diabetes_X[-20:]\n",
        "\n",
        "# Split the targets into training/testing sets\n",
        "diabetes_y_train = diabetes_y[:-20]\n",
        "diabetes_y_test = diabetes_y[-20:]\n",
        "\n",
        "# Create linear regression object\n",
        "regr = linear_model.LinearRegression()\n",
        "\n",
        "# Train the model using the training sets\n",
        "regr.fit(diabetes_X_train, diabetes_y_train)\n",
        "\n",
        "# Make predictions using the testing set\n",
        "diabetes_y_pred = regr.predict(diabetes_X_test)\n",
        "\n",
        "# The coefficients\n",
        "print(\"Coefficients: \\n\", regr.coef_)\n",
        "# The mean squared error\n",
        "print(\"Mean squared error: %.2f\" % mean_squared_error(diabetes_y_test, diabetes_y_pred))\n",
        "# The coefficient of determination: 1 is perfect prediction\n",
        "print(\"Coefficient of determination: %.2f\" % r2_score(diabetes_y_test, diabetes_y_pred))\n",
        "\n",
        "# Plot outputs\n",
        "plt.scatter(diabetes_X_test, diabetes_y_test, color=\"black\")\n",
        "plt.plot(diabetes_X_test, diabetes_y_pred, color=\"blue\", linewidth=3)\n",
        "\n",
        "plt.xticks(())\n",
        "plt.yticks(())\n",
        "\n",
        "plt.show()"
      ],
      "metadata": {
        "colab": {
          "base_uri": "https://localhost:8080/",
          "height": 475
        },
        "id": "5yWLpNG5kaDz",
        "outputId": "dfb2d680-8821-4917-e8de-ac7bcbf15bc3"
      },
      "execution_count": null,
      "outputs": [
        {
          "output_type": "stream",
          "name": "stdout",
          "text": [
            "Coefficients: \n",
            " [938.23786125]\n",
            "Mean squared error: 2548.07\n",
            "Coefficient of determination: 0.47\n"
          ]
        },
        {
          "output_type": "display_data",
          "data": {
            "text/plain": [
              "<Figure size 640x480 with 1 Axes>"
            ],
            "image/png": "[encoded data removed]"
          },
          "metadata": {}
        }
      ]
    },
    {
      "cell_type": "code",
      "source": [],
      "metadata": {
        "id": "z2ks6RryZX-J"
      },
      "execution_count": null,
      "outputs": []
    }
  ]
}